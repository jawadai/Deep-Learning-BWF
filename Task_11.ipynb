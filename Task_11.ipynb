{
 "cells": [
  {
   "cell_type": "code",
   "execution_count": 3,
   "id": "184bad6f",
   "metadata": {},
   "outputs": [
    {
     "name": "stdout",
     "output_type": "stream",
     "text": [
      "[[ 138 1980]\n",
      " [  36  792]]\n"
     ]
    }
   ],
   "source": [
    "#dot()\n",
    "import numpy as np  \n",
    "a = np.array([[13,20],[2,8]])  \n",
    "b = np.array([[6,0],[3,99]])  \n",
    "dot = np.dot(a,b)  \n",
    "print(dot)  "
   ]
  },
  {
   "cell_type": "code",
   "execution_count": 5,
   "id": "1634f25a",
   "metadata": {},
   "outputs": [
    {
     "name": "stdout",
     "output_type": "stream",
     "text": [
      "876\n"
     ]
    }
   ],
   "source": [
    "#vdot()\n",
    "a = np.array([[13,20],[2,8]])  \n",
    "b = np.array([[6,0],[3,99]])  \n",
    "vdot = np.vdot(a,b)  \n",
    "print(vdot)  "
   ]
  },
  {
   "cell_type": "code",
   "execution_count": 6,
   "id": "08793925",
   "metadata": {},
   "outputs": [
    {
     "name": "stdout",
     "output_type": "stream",
     "text": [
      "[[ 30  36  42]\n",
      " [ 66  81  96]\n",
      " [102 126 150]]\n"
     ]
    }
   ],
   "source": [
    "#matmul()\n",
    "a = np.array([[1,2,3],[4,5,6],[7,8,9]])  \n",
    "b = np.array([[1,2,3],[4,5,6],[7,8,9]])  \n",
    "mul = np.matmul(a,b)  \n",
    "print(mul) "
   ]
  },
  {
   "cell_type": "code",
   "execution_count": 7,
   "id": "eadf4dec",
   "metadata": {},
   "outputs": [
    {
     "name": "stdout",
     "output_type": "stream",
     "text": [
      "-2.0000000000000004\n"
     ]
    }
   ],
   "source": [
    "#det()\n",
    "a = np.array([[1,2],[3,4]])  \n",
    "print(np.linalg.det(a))  "
   ]
  },
  {
   "cell_type": "code",
   "execution_count": 8,
   "id": "8448396a",
   "metadata": {},
   "outputs": [
    {
     "name": "stdout",
     "output_type": "stream",
     "text": [
      "[[ 1 23 78]\n",
      " [98 60 75]\n",
      " [79 25 48]]\n",
      "1\n",
      "98\n"
     ]
    }
   ],
   "source": [
    "arr= np.array([[1,23,78],[98,60,75],[79,25,48]])  \n",
    "print(arr)\n",
    "#Minimum Function\n",
    "print(np.amin(arr))\n",
    "#Maximum Function\n",
    "print(np.amax(arr))"
   ]
  },
  {
   "cell_type": "code",
   "execution_count": 9,
   "id": "0db0ffc7",
   "metadata": {},
   "outputs": [
    {
     "name": "stdout",
     "output_type": "stream",
     "text": [
      "[5 6 7]\n",
      "6.0\n"
     ]
    }
   ],
   "source": [
    "a = np.array([5,6,7]) \n",
    "print(a)\n",
    "print(np.mean(a))\n"
   ]
  },
  {
   "cell_type": "code",
   "execution_count": 10,
   "id": "336213c0",
   "metadata": {},
   "outputs": [
    {
     "name": "stdout",
     "output_type": "stream",
     "text": [
      "[5 6 7]\n",
      "6.0\n"
     ]
    }
   ],
   "source": [
    "a = np.array([5,6,7]) \n",
    "print(a)\n",
    "print(np.median(a))\n"
   ]
  },
  {
   "cell_type": "code",
   "execution_count": 11,
   "id": "c2869f7a",
   "metadata": {},
   "outputs": [
    {
     "name": "stdout",
     "output_type": "stream",
     "text": [
      "[5 6 7]\n",
      "0.816496580927726\n"
     ]
    }
   ],
   "source": [
    "a = np.array([5,6,7]) \n",
    "print(a)\n",
    "print(np.std(a))\n"
   ]
  },
  {
   "cell_type": "code",
   "execution_count": 12,
   "id": "57032f8f",
   "metadata": {},
   "outputs": [
    {
     "name": "stdout",
     "output_type": "stream",
     "text": [
      "[5 6 7]\n",
      "0.6666666666666666\n"
     ]
    }
   ],
   "source": [
    "a = np.array([5,6,7]) \n",
    "print(a)\n",
    "print(np.var(a))"
   ]
  },
  {
   "cell_type": "code",
   "execution_count": 13,
   "id": "b6bfbff5",
   "metadata": {},
   "outputs": [
    {
     "name": "stdout",
     "output_type": "stream",
     "text": [
      "[5 6 7]\n",
      "6.0\n",
      "5.615384615384615\n"
     ]
    }
   ],
   "source": [
    "a = np.array([5,6,7]) \n",
    "print(a)\n",
    "#without weight same as mean\n",
    "print(np.average(a))\n",
    "#with weight gives weighted average\n",
    "wt = np.array([8,2,3])\n",
    "print(np.average(a, weights=wt))"
   ]
  },
  {
   "cell_type": "code",
   "execution_count": null,
   "id": "0e001cb1",
   "metadata": {},
   "outputs": [],
   "source": []
  }
 ],
 "metadata": {
  "kernelspec": {
   "display_name": "Python 3 (ipykernel)",
   "language": "python",
   "name": "python3"
  },
  "language_info": {
   "codemirror_mode": {
    "name": "ipython",
    "version": 3
   },
   "file_extension": ".py",
   "mimetype": "text/x-python",
   "name": "python",
   "nbconvert_exporter": "python",
   "pygments_lexer": "ipython3",
   "version": "3.9.12"
  }
 },
 "nbformat": 4,
 "nbformat_minor": 5
}
