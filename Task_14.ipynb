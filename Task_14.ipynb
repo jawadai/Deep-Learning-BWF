{
 "cells": [
  {
   "cell_type": "code",
   "execution_count": 1,
   "id": "c54ab50e",
   "metadata": {},
   "outputs": [],
   "source": [
    "import pandas as pd\n",
    "import sqlite3\n",
    "\n"
   ]
  },
  {
   "cell_type": "code",
   "execution_count": null,
   "id": "a0265ee0",
   "metadata": {},
   "outputs": [],
   "source": [
    "\n",
    "csv_data = pd.read_csv('task_14.csv')\n",
    "print(csv_data.head())"
   ]
  },
  {
   "cell_type": "code",
   "execution_count": null,
   "id": "6c83bff5",
   "metadata": {},
   "outputs": [],
   "source": [
    "excel_data = pd.read_excel('task_14.xlsx')\n",
    "print(excel_data.head())\n",
    "\n"
   ]
  },
  {
   "cell_type": "code",
   "execution_count": null,
   "id": "3b7d8eab",
   "metadata": {},
   "outputs": [],
   "source": [
    "\n",
    "\n",
    "json_data = pd.read_json('task_14.json')\n",
    "print(json_data.head())"
   ]
  },
  {
   "cell_type": "code",
   "execution_count": null,
   "id": "e526b6f9",
   "metadata": {},
   "outputs": [],
   "source": [
    "\n",
    "\n",
    "# Connect to the database\n",
    "conn = sqlite3.connect('task_14.db')\n",
    "\n",
    "# Load data from a table named 'customers'\n",
    "sql_data = pd.read_sql('SELECT * FROM customers', conn)\n",
    "print(sql_data.head())\n",
    "\n",
    "# Close the database connection\n",
    "conn.close()"
   ]
  }
 ],
 "metadata": {
  "kernelspec": {
   "display_name": "Python 3 (ipykernel)",
   "language": "python",
   "name": "python3"
  },
  "language_info": {
   "codemirror_mode": {
    "name": "ipython",
    "version": 3
   },
   "file_extension": ".py",
   "mimetype": "text/x-python",
   "name": "python",
   "nbconvert_exporter": "python",
   "pygments_lexer": "ipython3",
   "version": "3.9.12"
  }
 },
 "nbformat": 4,
 "nbformat_minor": 5
}
